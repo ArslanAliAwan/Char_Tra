{
 "cells": [
  {
   "cell_type": "code",
   "execution_count": 1,
   "metadata": {},
   "outputs": [],
   "source": [
    "import numpy as np \n",
    "from scipy.io import arff\n",
    "import pandas as pd"
   ]
  },
  {
   "cell_type": "markdown",
   "metadata": {},
   "source": [
    "# Pre- Steps "
   ]
  },
  {
   "cell_type": "code",
   "execution_count": 2,
   "metadata": {},
   "outputs": [],
   "source": [
    "data1 = arff.loadarff('/Users/arslanaliawan/Desktop/Pre-experiment/Multivariate_arff/CharacterTrajectories/CharacterTrajectoriesDimension1_TRAIN.arff')"
   ]
  },
  {
   "cell_type": "code",
   "execution_count": 3,
   "metadata": {},
   "outputs": [],
   "source": [
    "df_D1 = pd.DataFrame(data1[0])"
   ]
  },
  {
   "cell_type": "code",
   "execution_count": 4,
   "metadata": {},
   "outputs": [],
   "source": [
    "data2 = arff.loadarff('/Users/arslanaliawan/Desktop/Pre-experiment/Multivariate_arff/CharacterTrajectories/CharacterTrajectoriesDimension2_TRAIN.arff')"
   ]
  },
  {
   "cell_type": "code",
   "execution_count": 5,
   "metadata": {},
   "outputs": [],
   "source": [
    "df_D2 = pd.DataFrame(data2[0])"
   ]
  },
  {
   "cell_type": "code",
   "execution_count": 6,
   "metadata": {},
   "outputs": [],
   "source": [
    "data3 = arff.loadarff('/Users/arslanaliawan/Desktop/Pre-experiment/Multivariate_arff/CharacterTrajectories/CharacterTrajectoriesDimension3_TRAIN.arff')"
   ]
  },
  {
   "cell_type": "code",
   "execution_count": 7,
   "metadata": {},
   "outputs": [],
   "source": [
    "df_D3 = pd.DataFrame(data3[0])"
   ]
  },
  {
   "cell_type": "code",
   "execution_count": 8,
   "metadata": {},
   "outputs": [
    {
     "name": "stdout",
     "output_type": "stream",
     "text": [
      "(1422, 183)\n",
      "(1422, 183)\n",
      "(1422, 183)\n"
     ]
    }
   ],
   "source": [
    "print(df_D1.shape)\n",
    "print(df_D2.shape)\n",
    "print(df_D3.shape)"
   ]
  },
  {
   "cell_type": "code",
   "execution_count": 9,
   "metadata": {},
   "outputs": [],
   "source": [
    "df_D1 =df_D1.apply(lambda x : x.fillna(method='ffill'), axis=1) \n",
    "df_D2 =df_D2.apply(lambda x : x.fillna(method='ffill'), axis=1)\n",
    "df_D3 =df_D3.apply(lambda x : x.fillna(method='ffill'), axis=1) "
   ]
  },
  {
   "cell_type": "code",
   "execution_count": 10,
   "metadata": {},
   "outputs": [],
   "source": [
    "df_D1 = df_D1.drop('target', axis=1)\n",
    "df_D2 = df_D2.drop('target', axis=1)\n",
    "df_D3 = df_D3.drop('target', axis=1)"
   ]
  },
  {
   "cell_type": "code",
   "execution_count": 11,
   "metadata": {},
   "outputs": [
    {
     "name": "stdout",
     "output_type": "stream",
     "text": [
      "(1422, 182)\n",
      "(1422, 182)\n",
      "(1422, 182)\n"
     ]
    }
   ],
   "source": [
    "print(df_D1.shape)\n",
    "print(df_D2.shape)\n",
    "print(df_D3.shape)"
   ]
  },
  {
   "cell_type": "code",
   "execution_count": 12,
   "metadata": {},
   "outputs": [
    {
     "data": {
      "text/html": [
       "<div>\n",
       "<style scoped>\n",
       "    .dataframe tbody tr th:only-of-type {\n",
       "        vertical-align: middle;\n",
       "    }\n",
       "\n",
       "    .dataframe tbody tr th {\n",
       "        vertical-align: top;\n",
       "    }\n",
       "\n",
       "    .dataframe thead th {\n",
       "        text-align: right;\n",
       "    }\n",
       "</style>\n",
       "<table border=\"1\" class=\"dataframe\">\n",
       "  <thead>\n",
       "    <tr style=\"text-align: right;\">\n",
       "      <th></th>\n",
       "      <th>channel_0_0</th>\n",
       "      <th>channel_0_1</th>\n",
       "      <th>channel_0_2</th>\n",
       "      <th>channel_0_3</th>\n",
       "      <th>channel_0_4</th>\n",
       "      <th>channel_0_5</th>\n",
       "      <th>channel_0_6</th>\n",
       "      <th>channel_0_7</th>\n",
       "      <th>channel_0_8</th>\n",
       "      <th>channel_0_9</th>\n",
       "      <th>...</th>\n",
       "      <th>channel_0_172</th>\n",
       "      <th>channel_0_173</th>\n",
       "      <th>channel_0_174</th>\n",
       "      <th>channel_0_175</th>\n",
       "      <th>channel_0_176</th>\n",
       "      <th>channel_0_177</th>\n",
       "      <th>channel_0_178</th>\n",
       "      <th>channel_0_179</th>\n",
       "      <th>channel_0_180</th>\n",
       "      <th>channel_0_181</th>\n",
       "    </tr>\n",
       "  </thead>\n",
       "  <tbody>\n",
       "    <tr>\n",
       "      <th>0</th>\n",
       "      <td>-0.13015</td>\n",
       "      <td>-0.183121</td>\n",
       "      <td>-0.234104</td>\n",
       "      <td>-0.279929</td>\n",
       "      <td>-0.321851</td>\n",
       "      <td>-0.363783</td>\n",
       "      <td>-0.4095</td>\n",
       "      <td>-0.460814</td>\n",
       "      <td>-0.517526</td>\n",
       "      <td>-0.57844</td>\n",
       "      <td>...</td>\n",
       "      <td>0.673591</td>\n",
       "      <td>0.673591</td>\n",
       "      <td>0.673591</td>\n",
       "      <td>0.673591</td>\n",
       "      <td>0.673591</td>\n",
       "      <td>0.673591</td>\n",
       "      <td>0.673591</td>\n",
       "      <td>0.673591</td>\n",
       "      <td>0.673591</td>\n",
       "      <td>0.673591</td>\n",
       "    </tr>\n",
       "  </tbody>\n",
       "</table>\n",
       "<p>1 rows × 182 columns</p>\n",
       "</div>"
      ],
      "text/plain": [
       "   channel_0_0  channel_0_1  channel_0_2  channel_0_3  channel_0_4  \\\n",
       "0     -0.13015    -0.183121    -0.234104    -0.279929    -0.321851   \n",
       "\n",
       "   channel_0_5  channel_0_6  channel_0_7  channel_0_8  channel_0_9  ...  \\\n",
       "0    -0.363783      -0.4095    -0.460814    -0.517526     -0.57844  ...   \n",
       "\n",
       "   channel_0_172  channel_0_173  channel_0_174  channel_0_175  channel_0_176  \\\n",
       "0       0.673591       0.673591       0.673591       0.673591       0.673591   \n",
       "\n",
       "   channel_0_177  channel_0_178  channel_0_179  channel_0_180  channel_0_181  \n",
       "0       0.673591       0.673591       0.673591       0.673591       0.673591  \n",
       "\n",
       "[1 rows x 182 columns]"
      ]
     },
     "execution_count": 12,
     "metadata": {},
     "output_type": "execute_result"
    }
   ],
   "source": [
    "df_D1.head(1)"
   ]
  },
  {
   "cell_type": "code",
   "execution_count": 13,
   "metadata": {},
   "outputs": [
    {
     "data": {
      "text/html": [
       "<div>\n",
       "<style scoped>\n",
       "    .dataframe tbody tr th:only-of-type {\n",
       "        vertical-align: middle;\n",
       "    }\n",
       "\n",
       "    .dataframe tbody tr th {\n",
       "        vertical-align: top;\n",
       "    }\n",
       "\n",
       "    .dataframe thead th {\n",
       "        text-align: right;\n",
       "    }\n",
       "</style>\n",
       "<table border=\"1\" class=\"dataframe\">\n",
       "  <thead>\n",
       "    <tr style=\"text-align: right;\">\n",
       "      <th></th>\n",
       "      <th>channel_1_0</th>\n",
       "      <th>channel_1_1</th>\n",
       "      <th>channel_1_2</th>\n",
       "      <th>channel_1_3</th>\n",
       "      <th>channel_1_4</th>\n",
       "      <th>channel_1_5</th>\n",
       "      <th>channel_1_6</th>\n",
       "      <th>channel_1_7</th>\n",
       "      <th>channel_1_8</th>\n",
       "      <th>channel_1_9</th>\n",
       "      <th>...</th>\n",
       "      <th>channel_1_172</th>\n",
       "      <th>channel_1_173</th>\n",
       "      <th>channel_1_174</th>\n",
       "      <th>channel_1_175</th>\n",
       "      <th>channel_1_176</th>\n",
       "      <th>channel_1_177</th>\n",
       "      <th>channel_1_178</th>\n",
       "      <th>channel_1_179</th>\n",
       "      <th>channel_1_180</th>\n",
       "      <th>channel_1_181</th>\n",
       "    </tr>\n",
       "  </thead>\n",
       "  <tbody>\n",
       "    <tr>\n",
       "      <th>0</th>\n",
       "      <td>0.071323</td>\n",
       "      <td>0.083973</td>\n",
       "      <td>0.085534</td>\n",
       "      <td>0.078218</td>\n",
       "      <td>0.067093</td>\n",
       "      <td>0.05552</td>\n",
       "      <td>0.043275</td>\n",
       "      <td>0.027787</td>\n",
       "      <td>0.005932</td>\n",
       "      <td>-0.025043</td>\n",
       "      <td>...</td>\n",
       "      <td>0.544228</td>\n",
       "      <td>0.544228</td>\n",
       "      <td>0.544228</td>\n",
       "      <td>0.544228</td>\n",
       "      <td>0.544228</td>\n",
       "      <td>0.544228</td>\n",
       "      <td>0.544228</td>\n",
       "      <td>0.544228</td>\n",
       "      <td>0.544228</td>\n",
       "      <td>0.544228</td>\n",
       "    </tr>\n",
       "  </tbody>\n",
       "</table>\n",
       "<p>1 rows × 182 columns</p>\n",
       "</div>"
      ],
      "text/plain": [
       "   channel_1_0  channel_1_1  channel_1_2  channel_1_3  channel_1_4  \\\n",
       "0     0.071323     0.083973     0.085534     0.078218     0.067093   \n",
       "\n",
       "   channel_1_5  channel_1_6  channel_1_7  channel_1_8  channel_1_9  ...  \\\n",
       "0      0.05552     0.043275     0.027787     0.005932    -0.025043  ...   \n",
       "\n",
       "   channel_1_172  channel_1_173  channel_1_174  channel_1_175  channel_1_176  \\\n",
       "0       0.544228       0.544228       0.544228       0.544228       0.544228   \n",
       "\n",
       "   channel_1_177  channel_1_178  channel_1_179  channel_1_180  channel_1_181  \n",
       "0       0.544228       0.544228       0.544228       0.544228       0.544228  \n",
       "\n",
       "[1 rows x 182 columns]"
      ]
     },
     "execution_count": 13,
     "metadata": {},
     "output_type": "execute_result"
    }
   ],
   "source": [
    "df_D2.head(1)"
   ]
  },
  {
   "cell_type": "code",
   "execution_count": 14,
   "metadata": {},
   "outputs": [
    {
     "data": {
      "text/html": [
       "<div>\n",
       "<style scoped>\n",
       "    .dataframe tbody tr th:only-of-type {\n",
       "        vertical-align: middle;\n",
       "    }\n",
       "\n",
       "    .dataframe tbody tr th {\n",
       "        vertical-align: top;\n",
       "    }\n",
       "\n",
       "    .dataframe thead th {\n",
       "        text-align: right;\n",
       "    }\n",
       "</style>\n",
       "<table border=\"1\" class=\"dataframe\">\n",
       "  <thead>\n",
       "    <tr style=\"text-align: right;\">\n",
       "      <th></th>\n",
       "      <th>channel_2_0</th>\n",
       "      <th>channel_2_1</th>\n",
       "      <th>channel_2_2</th>\n",
       "      <th>channel_2_3</th>\n",
       "      <th>channel_2_4</th>\n",
       "      <th>channel_2_5</th>\n",
       "      <th>channel_2_6</th>\n",
       "      <th>channel_2_7</th>\n",
       "      <th>channel_2_8</th>\n",
       "      <th>channel_2_9</th>\n",
       "      <th>...</th>\n",
       "      <th>channel_2_172</th>\n",
       "      <th>channel_2_173</th>\n",
       "      <th>channel_2_174</th>\n",
       "      <th>channel_2_175</th>\n",
       "      <th>channel_2_176</th>\n",
       "      <th>channel_2_177</th>\n",
       "      <th>channel_2_178</th>\n",
       "      <th>channel_2_179</th>\n",
       "      <th>channel_2_180</th>\n",
       "      <th>channel_2_181</th>\n",
       "    </tr>\n",
       "  </thead>\n",
       "  <tbody>\n",
       "    <tr>\n",
       "      <th>0</th>\n",
       "      <td>0.899306</td>\n",
       "      <td>1.157239</td>\n",
       "      <td>1.320469</td>\n",
       "      <td>1.369472</td>\n",
       "      <td>1.323889</td>\n",
       "      <td>1.221704</td>\n",
       "      <td>1.098215</td>\n",
       "      <td>0.979016</td>\n",
       "      <td>0.880755</td>\n",
       "      <td>0.806413</td>\n",
       "      <td>...</td>\n",
       "      <td>-1.059098</td>\n",
       "      <td>-1.059098</td>\n",
       "      <td>-1.059098</td>\n",
       "      <td>-1.059098</td>\n",
       "      <td>-1.059098</td>\n",
       "      <td>-1.059098</td>\n",
       "      <td>-1.059098</td>\n",
       "      <td>-1.059098</td>\n",
       "      <td>-1.059098</td>\n",
       "      <td>-1.059098</td>\n",
       "    </tr>\n",
       "  </tbody>\n",
       "</table>\n",
       "<p>1 rows × 182 columns</p>\n",
       "</div>"
      ],
      "text/plain": [
       "   channel_2_0  channel_2_1  channel_2_2  channel_2_3  channel_2_4  \\\n",
       "0     0.899306     1.157239     1.320469     1.369472     1.323889   \n",
       "\n",
       "   channel_2_5  channel_2_6  channel_2_7  channel_2_8  channel_2_9  ...  \\\n",
       "0     1.221704     1.098215     0.979016     0.880755     0.806413  ...   \n",
       "\n",
       "   channel_2_172  channel_2_173  channel_2_174  channel_2_175  channel_2_176  \\\n",
       "0      -1.059098      -1.059098      -1.059098      -1.059098      -1.059098   \n",
       "\n",
       "   channel_2_177  channel_2_178  channel_2_179  channel_2_180  channel_2_181  \n",
       "0      -1.059098      -1.059098      -1.059098      -1.059098      -1.059098  \n",
       "\n",
       "[1 rows x 182 columns]"
      ]
     },
     "execution_count": 14,
     "metadata": {},
     "output_type": "execute_result"
    }
   ],
   "source": [
    "df_D3.head(1)"
   ]
  },
  {
   "cell_type": "code",
   "execution_count": 15,
   "metadata": {},
   "outputs": [],
   "source": [
    "df_D1_T = df_D1.head(1).T\n",
    "df_D2_T = df_D2.head(1).T\n",
    "df_D3_T = df_D3.head(1).T"
   ]
  },
  {
   "cell_type": "code",
   "execution_count": 16,
   "metadata": {},
   "outputs": [],
   "source": [
    "arr1 = df_D1_T.to_numpy()\n",
    "arr2 = df_D2_T.to_numpy()\n",
    "arr3 = df_D3_T.to_numpy()"
   ]
  },
  {
   "cell_type": "code",
   "execution_count": 17,
   "metadata": {},
   "outputs": [],
   "source": [
    "finalarray_training_data = np.concatenate((arr1, arr2),axis=1)"
   ]
  },
  {
   "cell_type": "code",
   "execution_count": 18,
   "metadata": {},
   "outputs": [],
   "source": [
    "finalarray_training_data = np.concatenate((finalarray_training_data, arr3),axis=1)"
   ]
  },
  {
   "cell_type": "markdown",
   "metadata": {},
   "source": [
    "<!-- ![alt text](t1.png \"T1\") -->\n",
    "\n",
    "<img src=\"t1.png\" width=\"500\" />"
   ]
  },
  {
   "cell_type": "markdown",
   "metadata": {},
   "source": [
    "Getting Row2 D1-D3"
   ]
  },
  {
   "cell_type": "code",
   "execution_count": 19,
   "metadata": {},
   "outputs": [],
   "source": [
    "df_D1_Row2 = df_D1.head(2)\n",
    "df_D2_Row2 = df_D2.head(2)\n",
    "df_D3_Row2 = df_D3.head(2)"
   ]
  },
  {
   "cell_type": "code",
   "execution_count": 20,
   "metadata": {},
   "outputs": [],
   "source": [
    "df_D1_Row2 = df_D1_Row2.drop(df_D1_Row2.index[0]).T\n",
    "df_D2_Row2 = df_D2_Row2.drop(df_D2_Row2.index[0]).T\n",
    "df_D3_Row2 = df_D3_Row2.drop(df_D3_Row2.index[0]).T"
   ]
  },
  {
   "cell_type": "code",
   "execution_count": 21,
   "metadata": {},
   "outputs": [],
   "source": [
    "arr4 = df_D1_Row2\n",
    "arr5 = df_D2_Row2\n",
    "arr6 = df_D3_Row2"
   ]
  },
  {
   "cell_type": "code",
   "execution_count": 22,
   "metadata": {},
   "outputs": [],
   "source": [
    "finalarray_training_data_row2 = np.concatenate((arr4, arr5),axis=1)"
   ]
  },
  {
   "cell_type": "code",
   "execution_count": 23,
   "metadata": {},
   "outputs": [],
   "source": [
    "finalarray_training_data_row2 = np.concatenate((finalarray_training_data_row2, arr6),axis=1)"
   ]
  },
  {
   "cell_type": "markdown",
   "metadata": {},
   "source": [
    "<!-- ![alt text](t2.png \"T2\") -->\n",
    "\n",
    "<img src=\"t2.png\" width=\"500\" />"
   ]
  },
  {
   "cell_type": "markdown",
   "metadata": {},
   "source": [
    "Getting Row3 D1-D3"
   ]
  },
  {
   "cell_type": "code",
   "execution_count": 24,
   "metadata": {},
   "outputs": [],
   "source": [
    "df_D1_Row3 = df_D1.head(3)\n",
    "df_D2_Row3 = df_D2.head(3)\n",
    "df_D3_Row3 = df_D3.head(3)"
   ]
  },
  {
   "cell_type": "code",
   "execution_count": 25,
   "metadata": {},
   "outputs": [
    {
     "data": {
      "text/html": [
       "<div>\n",
       "<style scoped>\n",
       "    .dataframe tbody tr th:only-of-type {\n",
       "        vertical-align: middle;\n",
       "    }\n",
       "\n",
       "    .dataframe tbody tr th {\n",
       "        vertical-align: top;\n",
       "    }\n",
       "\n",
       "    .dataframe thead th {\n",
       "        text-align: right;\n",
       "    }\n",
       "</style>\n",
       "<table border=\"1\" class=\"dataframe\">\n",
       "  <thead>\n",
       "    <tr style=\"text-align: right;\">\n",
       "      <th></th>\n",
       "      <th>channel_0_0</th>\n",
       "      <th>channel_0_1</th>\n",
       "      <th>channel_0_2</th>\n",
       "      <th>channel_0_3</th>\n",
       "      <th>channel_0_4</th>\n",
       "      <th>channel_0_5</th>\n",
       "      <th>channel_0_6</th>\n",
       "      <th>channel_0_7</th>\n",
       "      <th>channel_0_8</th>\n",
       "      <th>channel_0_9</th>\n",
       "      <th>...</th>\n",
       "      <th>channel_0_172</th>\n",
       "      <th>channel_0_173</th>\n",
       "      <th>channel_0_174</th>\n",
       "      <th>channel_0_175</th>\n",
       "      <th>channel_0_176</th>\n",
       "      <th>channel_0_177</th>\n",
       "      <th>channel_0_178</th>\n",
       "      <th>channel_0_179</th>\n",
       "      <th>channel_0_180</th>\n",
       "      <th>channel_0_181</th>\n",
       "    </tr>\n",
       "  </thead>\n",
       "  <tbody>\n",
       "    <tr>\n",
       "      <th>0</th>\n",
       "      <td>-0.130150</td>\n",
       "      <td>-0.183121</td>\n",
       "      <td>-0.234104</td>\n",
       "      <td>-0.279929</td>\n",
       "      <td>-0.321851</td>\n",
       "      <td>-0.363783</td>\n",
       "      <td>-0.409500</td>\n",
       "      <td>-0.460814</td>\n",
       "      <td>-0.517526</td>\n",
       "      <td>-0.578440</td>\n",
       "      <td>...</td>\n",
       "      <td>0.673591</td>\n",
       "      <td>0.673591</td>\n",
       "      <td>0.673591</td>\n",
       "      <td>0.673591</td>\n",
       "      <td>0.673591</td>\n",
       "      <td>0.673591</td>\n",
       "      <td>0.673591</td>\n",
       "      <td>0.673591</td>\n",
       "      <td>0.673591</td>\n",
       "      <td>0.673591</td>\n",
       "    </tr>\n",
       "    <tr>\n",
       "      <th>1</th>\n",
       "      <td>-0.085541</td>\n",
       "      <td>-0.114704</td>\n",
       "      <td>-0.141445</td>\n",
       "      <td>-0.166160</td>\n",
       "      <td>-0.191072</td>\n",
       "      <td>-0.218434</td>\n",
       "      <td>-0.249653</td>\n",
       "      <td>-0.285248</td>\n",
       "      <td>-0.325004</td>\n",
       "      <td>-0.368095</td>\n",
       "      <td>...</td>\n",
       "      <td>0.303218</td>\n",
       "      <td>0.303218</td>\n",
       "      <td>0.303218</td>\n",
       "      <td>0.303218</td>\n",
       "      <td>0.303218</td>\n",
       "      <td>0.303218</td>\n",
       "      <td>0.303218</td>\n",
       "      <td>0.303218</td>\n",
       "      <td>0.303218</td>\n",
       "      <td>0.303218</td>\n",
       "    </tr>\n",
       "    <tr>\n",
       "      <th>2</th>\n",
       "      <td>-0.026161</td>\n",
       "      <td>-0.037501</td>\n",
       "      <td>-0.048952</td>\n",
       "      <td>-0.061438</td>\n",
       "      <td>-0.077020</td>\n",
       "      <td>-0.097312</td>\n",
       "      <td>-0.122992</td>\n",
       "      <td>-0.154525</td>\n",
       "      <td>-0.192382</td>\n",
       "      <td>-0.236238</td>\n",
       "      <td>...</td>\n",
       "      <td>0.252342</td>\n",
       "      <td>0.252342</td>\n",
       "      <td>0.252342</td>\n",
       "      <td>0.252342</td>\n",
       "      <td>0.252342</td>\n",
       "      <td>0.252342</td>\n",
       "      <td>0.252342</td>\n",
       "      <td>0.252342</td>\n",
       "      <td>0.252342</td>\n",
       "      <td>0.252342</td>\n",
       "    </tr>\n",
       "  </tbody>\n",
       "</table>\n",
       "<p>3 rows × 182 columns</p>\n",
       "</div>"
      ],
      "text/plain": [
       "   channel_0_0  channel_0_1  channel_0_2  channel_0_3  channel_0_4  \\\n",
       "0    -0.130150    -0.183121    -0.234104    -0.279929    -0.321851   \n",
       "1    -0.085541    -0.114704    -0.141445    -0.166160    -0.191072   \n",
       "2    -0.026161    -0.037501    -0.048952    -0.061438    -0.077020   \n",
       "\n",
       "   channel_0_5  channel_0_6  channel_0_7  channel_0_8  channel_0_9  ...  \\\n",
       "0    -0.363783    -0.409500    -0.460814    -0.517526    -0.578440  ...   \n",
       "1    -0.218434    -0.249653    -0.285248    -0.325004    -0.368095  ...   \n",
       "2    -0.097312    -0.122992    -0.154525    -0.192382    -0.236238  ...   \n",
       "\n",
       "   channel_0_172  channel_0_173  channel_0_174  channel_0_175  channel_0_176  \\\n",
       "0       0.673591       0.673591       0.673591       0.673591       0.673591   \n",
       "1       0.303218       0.303218       0.303218       0.303218       0.303218   \n",
       "2       0.252342       0.252342       0.252342       0.252342       0.252342   \n",
       "\n",
       "   channel_0_177  channel_0_178  channel_0_179  channel_0_180  channel_0_181  \n",
       "0       0.673591       0.673591       0.673591       0.673591       0.673591  \n",
       "1       0.303218       0.303218       0.303218       0.303218       0.303218  \n",
       "2       0.252342       0.252342       0.252342       0.252342       0.252342  \n",
       "\n",
       "[3 rows x 182 columns]"
      ]
     },
     "execution_count": 25,
     "metadata": {},
     "output_type": "execute_result"
    }
   ],
   "source": [
    "df_D1_Row3"
   ]
  },
  {
   "cell_type": "code",
   "execution_count": 26,
   "metadata": {},
   "outputs": [],
   "source": [
    "df_D1_Row3 = df_D1_Row3.drop(df_D1_Row3.index[0:2])\n",
    "df_D2_Row3 = df_D2_Row3.drop(df_D2_Row3.index[0:2])\n",
    "df_D3_Row3 = df_D3_Row3.drop(df_D3_Row3.index[0:2])"
   ]
  },
  {
   "cell_type": "code",
   "execution_count": 27,
   "metadata": {},
   "outputs": [
    {
     "data": {
      "text/html": [
       "<div>\n",
       "<style scoped>\n",
       "    .dataframe tbody tr th:only-of-type {\n",
       "        vertical-align: middle;\n",
       "    }\n",
       "\n",
       "    .dataframe tbody tr th {\n",
       "        vertical-align: top;\n",
       "    }\n",
       "\n",
       "    .dataframe thead th {\n",
       "        text-align: right;\n",
       "    }\n",
       "</style>\n",
       "<table border=\"1\" class=\"dataframe\">\n",
       "  <thead>\n",
       "    <tr style=\"text-align: right;\">\n",
       "      <th></th>\n",
       "      <th>channel_0_0</th>\n",
       "      <th>channel_0_1</th>\n",
       "      <th>channel_0_2</th>\n",
       "      <th>channel_0_3</th>\n",
       "      <th>channel_0_4</th>\n",
       "      <th>channel_0_5</th>\n",
       "      <th>channel_0_6</th>\n",
       "      <th>channel_0_7</th>\n",
       "      <th>channel_0_8</th>\n",
       "      <th>channel_0_9</th>\n",
       "      <th>...</th>\n",
       "      <th>channel_0_172</th>\n",
       "      <th>channel_0_173</th>\n",
       "      <th>channel_0_174</th>\n",
       "      <th>channel_0_175</th>\n",
       "      <th>channel_0_176</th>\n",
       "      <th>channel_0_177</th>\n",
       "      <th>channel_0_178</th>\n",
       "      <th>channel_0_179</th>\n",
       "      <th>channel_0_180</th>\n",
       "      <th>channel_0_181</th>\n",
       "    </tr>\n",
       "  </thead>\n",
       "  <tbody>\n",
       "    <tr>\n",
       "      <th>2</th>\n",
       "      <td>-0.026161</td>\n",
       "      <td>-0.037501</td>\n",
       "      <td>-0.048952</td>\n",
       "      <td>-0.061438</td>\n",
       "      <td>-0.07702</td>\n",
       "      <td>-0.097312</td>\n",
       "      <td>-0.122992</td>\n",
       "      <td>-0.154525</td>\n",
       "      <td>-0.192382</td>\n",
       "      <td>-0.236238</td>\n",
       "      <td>...</td>\n",
       "      <td>0.252342</td>\n",
       "      <td>0.252342</td>\n",
       "      <td>0.252342</td>\n",
       "      <td>0.252342</td>\n",
       "      <td>0.252342</td>\n",
       "      <td>0.252342</td>\n",
       "      <td>0.252342</td>\n",
       "      <td>0.252342</td>\n",
       "      <td>0.252342</td>\n",
       "      <td>0.252342</td>\n",
       "    </tr>\n",
       "  </tbody>\n",
       "</table>\n",
       "<p>1 rows × 182 columns</p>\n",
       "</div>"
      ],
      "text/plain": [
       "   channel_0_0  channel_0_1  channel_0_2  channel_0_3  channel_0_4  \\\n",
       "2    -0.026161    -0.037501    -0.048952    -0.061438     -0.07702   \n",
       "\n",
       "   channel_0_5  channel_0_6  channel_0_7  channel_0_8  channel_0_9  ...  \\\n",
       "2    -0.097312    -0.122992    -0.154525    -0.192382    -0.236238  ...   \n",
       "\n",
       "   channel_0_172  channel_0_173  channel_0_174  channel_0_175  channel_0_176  \\\n",
       "2       0.252342       0.252342       0.252342       0.252342       0.252342   \n",
       "\n",
       "   channel_0_177  channel_0_178  channel_0_179  channel_0_180  channel_0_181  \n",
       "2       0.252342       0.252342       0.252342       0.252342       0.252342  \n",
       "\n",
       "[1 rows x 182 columns]"
      ]
     },
     "execution_count": 27,
     "metadata": {},
     "output_type": "execute_result"
    }
   ],
   "source": [
    "df_D1_Row3"
   ]
  },
  {
   "cell_type": "code",
   "execution_count": 28,
   "metadata": {},
   "outputs": [
    {
     "data": {
      "text/html": [
       "<div>\n",
       "<style scoped>\n",
       "    .dataframe tbody tr th:only-of-type {\n",
       "        vertical-align: middle;\n",
       "    }\n",
       "\n",
       "    .dataframe tbody tr th {\n",
       "        vertical-align: top;\n",
       "    }\n",
       "\n",
       "    .dataframe thead th {\n",
       "        text-align: right;\n",
       "    }\n",
       "</style>\n",
       "<table border=\"1\" class=\"dataframe\">\n",
       "  <thead>\n",
       "    <tr style=\"text-align: right;\">\n",
       "      <th></th>\n",
       "      <th>channel_1_0</th>\n",
       "      <th>channel_1_1</th>\n",
       "      <th>channel_1_2</th>\n",
       "      <th>channel_1_3</th>\n",
       "      <th>channel_1_4</th>\n",
       "      <th>channel_1_5</th>\n",
       "      <th>channel_1_6</th>\n",
       "      <th>channel_1_7</th>\n",
       "      <th>channel_1_8</th>\n",
       "      <th>channel_1_9</th>\n",
       "      <th>...</th>\n",
       "      <th>channel_1_172</th>\n",
       "      <th>channel_1_173</th>\n",
       "      <th>channel_1_174</th>\n",
       "      <th>channel_1_175</th>\n",
       "      <th>channel_1_176</th>\n",
       "      <th>channel_1_177</th>\n",
       "      <th>channel_1_178</th>\n",
       "      <th>channel_1_179</th>\n",
       "      <th>channel_1_180</th>\n",
       "      <th>channel_1_181</th>\n",
       "    </tr>\n",
       "  </thead>\n",
       "  <tbody>\n",
       "    <tr>\n",
       "      <th>2</th>\n",
       "      <td>0.053789</td>\n",
       "      <td>0.074516</td>\n",
       "      <td>0.094246</td>\n",
       "      <td>0.111463</td>\n",
       "      <td>0.125568</td>\n",
       "      <td>0.136576</td>\n",
       "      <td>0.144678</td>\n",
       "      <td>0.149621</td>\n",
       "      <td>0.150365</td>\n",
       "      <td>0.145481</td>\n",
       "      <td>...</td>\n",
       "      <td>0.341818</td>\n",
       "      <td>0.341818</td>\n",
       "      <td>0.341818</td>\n",
       "      <td>0.341818</td>\n",
       "      <td>0.341818</td>\n",
       "      <td>0.341818</td>\n",
       "      <td>0.341818</td>\n",
       "      <td>0.341818</td>\n",
       "      <td>0.341818</td>\n",
       "      <td>0.341818</td>\n",
       "    </tr>\n",
       "  </tbody>\n",
       "</table>\n",
       "<p>1 rows × 182 columns</p>\n",
       "</div>"
      ],
      "text/plain": [
       "   channel_1_0  channel_1_1  channel_1_2  channel_1_3  channel_1_4  \\\n",
       "2     0.053789     0.074516     0.094246     0.111463     0.125568   \n",
       "\n",
       "   channel_1_5  channel_1_6  channel_1_7  channel_1_8  channel_1_9  ...  \\\n",
       "2     0.136576     0.144678     0.149621     0.150365     0.145481  ...   \n",
       "\n",
       "   channel_1_172  channel_1_173  channel_1_174  channel_1_175  channel_1_176  \\\n",
       "2       0.341818       0.341818       0.341818       0.341818       0.341818   \n",
       "\n",
       "   channel_1_177  channel_1_178  channel_1_179  channel_1_180  channel_1_181  \n",
       "2       0.341818       0.341818       0.341818       0.341818       0.341818  \n",
       "\n",
       "[1 rows x 182 columns]"
      ]
     },
     "execution_count": 28,
     "metadata": {},
     "output_type": "execute_result"
    }
   ],
   "source": [
    "df_D2_Row3"
   ]
  },
  {
   "cell_type": "code",
   "execution_count": 29,
   "metadata": {},
   "outputs": [
    {
     "data": {
      "text/html": [
       "<div>\n",
       "<style scoped>\n",
       "    .dataframe tbody tr th:only-of-type {\n",
       "        vertical-align: middle;\n",
       "    }\n",
       "\n",
       "    .dataframe tbody tr th {\n",
       "        vertical-align: top;\n",
       "    }\n",
       "\n",
       "    .dataframe thead th {\n",
       "        text-align: right;\n",
       "    }\n",
       "</style>\n",
       "<table border=\"1\" class=\"dataframe\">\n",
       "  <thead>\n",
       "    <tr style=\"text-align: right;\">\n",
       "      <th></th>\n",
       "      <th>channel_2_0</th>\n",
       "      <th>channel_2_1</th>\n",
       "      <th>channel_2_2</th>\n",
       "      <th>channel_2_3</th>\n",
       "      <th>channel_2_4</th>\n",
       "      <th>channel_2_5</th>\n",
       "      <th>channel_2_6</th>\n",
       "      <th>channel_2_7</th>\n",
       "      <th>channel_2_8</th>\n",
       "      <th>channel_2_9</th>\n",
       "      <th>...</th>\n",
       "      <th>channel_2_172</th>\n",
       "      <th>channel_2_173</th>\n",
       "      <th>channel_2_174</th>\n",
       "      <th>channel_2_175</th>\n",
       "      <th>channel_2_176</th>\n",
       "      <th>channel_2_177</th>\n",
       "      <th>channel_2_178</th>\n",
       "      <th>channel_2_179</th>\n",
       "      <th>channel_2_180</th>\n",
       "      <th>channel_2_181</th>\n",
       "    </tr>\n",
       "  </thead>\n",
       "  <tbody>\n",
       "    <tr>\n",
       "      <th>2</th>\n",
       "      <td>0.617474</td>\n",
       "      <td>0.790598</td>\n",
       "      <td>0.919484</td>\n",
       "      <td>1.005883</td>\n",
       "      <td>1.059747</td>\n",
       "      <td>1.084251</td>\n",
       "      <td>1.078967</td>\n",
       "      <td>1.049666</td>\n",
       "      <td>1.005971</td>\n",
       "      <td>0.950621</td>\n",
       "      <td>...</td>\n",
       "      <td>-1.223227</td>\n",
       "      <td>-1.223227</td>\n",
       "      <td>-1.223227</td>\n",
       "      <td>-1.223227</td>\n",
       "      <td>-1.223227</td>\n",
       "      <td>-1.223227</td>\n",
       "      <td>-1.223227</td>\n",
       "      <td>-1.223227</td>\n",
       "      <td>-1.223227</td>\n",
       "      <td>-1.223227</td>\n",
       "    </tr>\n",
       "  </tbody>\n",
       "</table>\n",
       "<p>1 rows × 182 columns</p>\n",
       "</div>"
      ],
      "text/plain": [
       "   channel_2_0  channel_2_1  channel_2_2  channel_2_3  channel_2_4  \\\n",
       "2     0.617474     0.790598     0.919484     1.005883     1.059747   \n",
       "\n",
       "   channel_2_5  channel_2_6  channel_2_7  channel_2_8  channel_2_9  ...  \\\n",
       "2     1.084251     1.078967     1.049666     1.005971     0.950621  ...   \n",
       "\n",
       "   channel_2_172  channel_2_173  channel_2_174  channel_2_175  channel_2_176  \\\n",
       "2      -1.223227      -1.223227      -1.223227      -1.223227      -1.223227   \n",
       "\n",
       "   channel_2_177  channel_2_178  channel_2_179  channel_2_180  channel_2_181  \n",
       "2      -1.223227      -1.223227      -1.223227      -1.223227      -1.223227  \n",
       "\n",
       "[1 rows x 182 columns]"
      ]
     },
     "execution_count": 29,
     "metadata": {},
     "output_type": "execute_result"
    }
   ],
   "source": [
    "df_D3_Row3"
   ]
  },
  {
   "cell_type": "code",
   "execution_count": 30,
   "metadata": {},
   "outputs": [],
   "source": [
    "df_D1_Row3 = df_D1_Row3.T\n",
    "df_D2_Row3 = df_D2_Row3.T\n",
    "df_D3_Row3 = df_D3_Row3.T"
   ]
  },
  {
   "cell_type": "code",
   "execution_count": 31,
   "metadata": {},
   "outputs": [],
   "source": [
    "arr7 = df_D1_Row3\n",
    "arr8 = df_D2_Row3\n",
    "arr9 = df_D3_Row3"
   ]
  },
  {
   "cell_type": "code",
   "execution_count": 32,
   "metadata": {},
   "outputs": [],
   "source": [
    "finalarray_training_data_row3 = np.concatenate((arr7, arr8),axis=1)"
   ]
  },
  {
   "cell_type": "code",
   "execution_count": 33,
   "metadata": {},
   "outputs": [],
   "source": [
    "finalarray_training_data_row3 = np.concatenate((finalarray_training_data_row3, arr9),axis=1)"
   ]
  },
  {
   "cell_type": "markdown",
   "metadata": {},
   "source": [
    "<!-- ![alt text](t3.png \"T3\") -->\n",
    "\n",
    "<img src=\"t3.png\" width=\"500\" />"
   ]
  },
  {
   "cell_type": "code",
   "execution_count": 34,
   "metadata": {},
   "outputs": [],
   "source": [
    "Row1 = np.copy(finalarray_training_data)\n",
    "Row2 = np.copy(finalarray_training_data_row2)\n",
    "Row3 = np.copy(finalarray_training_data_row3)"
   ]
  },
  {
   "cell_type": "code",
   "execution_count": 35,
   "metadata": {},
   "outputs": [],
   "source": [
    "Final_View = np.concatenate((Row1, Row2),axis=0)"
   ]
  },
  {
   "cell_type": "code",
   "execution_count": 36,
   "metadata": {},
   "outputs": [],
   "source": [
    "Final_View = np.concatenate((Final_View, Row3),axis=0)"
   ]
  },
  {
   "cell_type": "code",
   "execution_count": 37,
   "metadata": {},
   "outputs": [
    {
     "data": {
      "text/plain": [
       "(546, 3)"
      ]
     },
     "execution_count": 37,
     "metadata": {},
     "output_type": "execute_result"
    }
   ],
   "source": [
    "Final_View.shape"
   ]
  },
  {
   "cell_type": "markdown",
   "metadata": {},
   "source": [
    "<!-- ![alt text](final.png \"T3\") -->\n",
    "\n",
    " <img src=\"final.png\" width=\"500\" />"
   ]
  },
  {
   "cell_type": "markdown",
   "metadata": {},
   "source": [
    "## Testing data"
   ]
  },
  {
   "cell_type": "code",
   "execution_count": 38,
   "metadata": {},
   "outputs": [],
   "source": [
    "Test_data1 = arff.loadarff('/Users/arslanaliawan/Desktop/Pre-experiment/Multivariate_arff/CharacterTrajectories/CharacterTrajectoriesDimension1_TEST.arff')"
   ]
  },
  {
   "cell_type": "code",
   "execution_count": 39,
   "metadata": {},
   "outputs": [],
   "source": [
    "Test_df_D1 = pd.DataFrame(Test_data1[0])"
   ]
  },
  {
   "cell_type": "code",
   "execution_count": 40,
   "metadata": {},
   "outputs": [],
   "source": [
    "Test_data2 = arff.loadarff('/Users/arslanaliawan/Desktop/Pre-experiment/Multivariate_arff/CharacterTrajectories/CharacterTrajectoriesDimension2_TEST.arff')"
   ]
  },
  {
   "cell_type": "code",
   "execution_count": 41,
   "metadata": {},
   "outputs": [],
   "source": [
    "Test_df_D2 = pd.DataFrame(Test_data2[0])"
   ]
  },
  {
   "cell_type": "code",
   "execution_count": 42,
   "metadata": {},
   "outputs": [],
   "source": [
    "Test_data3 = arff.loadarff('/Users/arslanaliawan/Desktop/Pre-experiment/Multivariate_arff/CharacterTrajectories/CharacterTrajectoriesDimension3_TEST.arff')"
   ]
  },
  {
   "cell_type": "code",
   "execution_count": 43,
   "metadata": {},
   "outputs": [],
   "source": [
    "Test_df_D3 = pd.DataFrame(Test_data3[0])"
   ]
  },
  {
   "cell_type": "code",
   "execution_count": 44,
   "metadata": {},
   "outputs": [
    {
     "name": "stdout",
     "output_type": "stream",
     "text": [
      "(1436, 183)\n",
      "(1436, 183)\n",
      "(1436, 183)\n"
     ]
    }
   ],
   "source": [
    "print(Test_df_D1.shape)\n",
    "print(Test_df_D2.shape)\n",
    "print(Test_df_D3.shape)"
   ]
  },
  {
   "cell_type": "code",
   "execution_count": 45,
   "metadata": {},
   "outputs": [],
   "source": [
    "Test_df_D1 =Test_df_D1.apply(lambda x : x.fillna(method='ffill'), axis=1) \n",
    "Test_df_D2 =Test_df_D2.apply(lambda x : x.fillna(method='ffill'), axis=1)\n",
    "Test_df_D3 =Test_df_D3.apply(lambda x : x.fillna(method='ffill'), axis=1) "
   ]
  },
  {
   "cell_type": "code",
   "execution_count": 46,
   "metadata": {},
   "outputs": [],
   "source": [
    "Test_df_D1 = Test_df_D1.drop('target', axis=1)\n",
    "Test_df_D2 = Test_df_D2.drop('target', axis=1)\n",
    "Test_df_D3 = Test_df_D3.drop('target', axis=1)"
   ]
  },
  {
   "cell_type": "code",
   "execution_count": 47,
   "metadata": {},
   "outputs": [],
   "source": [
    "Test_df_D1_T = Test_df_D1.head(1).T\n",
    "Test_df_D2_T = Test_df_D2.head(1).T\n",
    "Test_df_D3_T = Test_df_D3.head(1).T"
   ]
  },
  {
   "cell_type": "code",
   "execution_count": 48,
   "metadata": {},
   "outputs": [],
   "source": [
    "Test_arr1 = Test_df_D1_T.to_numpy()\n",
    "Test_arr2 = Test_df_D2_T.to_numpy()\n",
    "Test_arr3 = Test_df_D3_T.to_numpy()"
   ]
  },
  {
   "cell_type": "code",
   "execution_count": 49,
   "metadata": {},
   "outputs": [],
   "source": [
    "finalarray_test_data = np.concatenate((Test_arr1, Test_arr2),axis=1)"
   ]
  },
  {
   "cell_type": "code",
   "execution_count": 50,
   "metadata": {},
   "outputs": [],
   "source": [
    "finalarray_test_data = np.concatenate((finalarray_test_data, Test_arr3),axis=1)"
   ]
  },
  {
   "cell_type": "markdown",
   "metadata": {},
   "source": [
    "## Random TS "
   ]
  },
  {
   "cell_type": "code",
   "execution_count": 51,
   "metadata": {},
   "outputs": [],
   "source": [
    "Starting_point = finalarray_test_data[:][0:1]\n",
    "End_point = finalarray_test_data[:][181:182]\n",
    "Sub_Sampling = Final_View[:][1:250]"
   ]
  },
  {
   "cell_type": "code",
   "execution_count": 52,
   "metadata": {},
   "outputs": [],
   "source": [
    "number_of_rows = Sub_Sampling.shape[0]\n",
    "random_indices = np.random.choice(number_of_rows, size=181, replace=False)\n",
    "random_rows = Sub_Sampling[random_indices, :]"
   ]
  },
  {
   "cell_type": "code",
   "execution_count": 53,
   "metadata": {},
   "outputs": [],
   "source": [
    "Random_TS = np.concatenate((Starting_point, random_rows),axis=0)"
   ]
  },
  {
   "cell_type": "code",
   "execution_count": 54,
   "metadata": {},
   "outputs": [],
   "source": [
    "Random_TS = np.concatenate((Random_TS, End_point),axis=0)"
   ]
  },
  {
   "cell_type": "code",
   "execution_count": 55,
   "metadata": {},
   "outputs": [
    {
     "data": {
      "text/plain": [
       "(183, 3)"
      ]
     },
     "execution_count": 55,
     "metadata": {},
     "output_type": "execute_result"
    }
   ],
   "source": [
    "Random_TS.shape"
   ]
  },
  {
   "cell_type": "markdown",
   "metadata": {},
   "source": [
    "# Pseudo TS"
   ]
  },
  {
   "cell_type": "code",
   "execution_count": 56,
   "metadata": {},
   "outputs": [],
   "source": [
    "Sub_Sampling_PTS = Final_View[:][0:181]"
   ]
  },
  {
   "cell_type": "code",
   "execution_count": 57,
   "metadata": {},
   "outputs": [
    {
     "data": {
      "text/plain": [
       "(181, 3)"
      ]
     },
     "execution_count": 57,
     "metadata": {},
     "output_type": "execute_result"
    }
   ],
   "source": [
    "Sub_Sampling_PTS.shape"
   ]
  },
  {
   "cell_type": "code",
   "execution_count": 58,
   "metadata": {},
   "outputs": [],
   "source": [
    "Pseudo_TS = np.concatenate((Starting_point, Sub_Sampling_PTS),axis=0)"
   ]
  },
  {
   "cell_type": "code",
   "execution_count": 59,
   "metadata": {},
   "outputs": [],
   "source": [
    "Pseudo_TS = np.concatenate((Pseudo_TS, End_point),axis=0)"
   ]
  },
  {
   "cell_type": "markdown",
   "metadata": {},
   "source": [
    "### Similarity Matrix"
   ]
  },
  {
   "cell_type": "code",
   "execution_count": 60,
   "metadata": {},
   "outputs": [],
   "source": [
    "from scipy.spatial import distance\n",
    "import networkx as nx\n",
    "import matplotlib.pyplot as plt"
   ]
  },
  {
   "cell_type": "code",
   "execution_count": 61,
   "metadata": {},
   "outputs": [],
   "source": [
    "Pseudo_TS = Pseudo_TS[0:4]"
   ]
  },
  {
   "cell_type": "code",
   "execution_count": 62,
   "metadata": {},
   "outputs": [],
   "source": [
    "ED_Matrix = distance.cdist(Pseudo_TS, Pseudo_TS, 'euclidean')"
   ]
  },
  {
   "cell_type": "code",
   "execution_count": 63,
   "metadata": {},
   "outputs": [
    {
     "data": {
      "text/plain": [
       "array([[0.        , 0.41054667, 0.66761248, 0.83728425],\n",
       "       [0.41054667, 0.        , 0.26361977, 0.43403532],\n",
       "       [0.66761248, 0.26361977, 0.        , 0.17101385],\n",
       "       [0.83728425, 0.43403532, 0.17101385, 0.        ]])"
      ]
     },
     "execution_count": 63,
     "metadata": {},
     "output_type": "execute_result"
    }
   ],
   "source": [
    "ED_Matrix"
   ]
  },
  {
   "cell_type": "code",
   "execution_count": null,
   "metadata": {},
   "outputs": [],
   "source": []
  },
  {
   "cell_type": "code",
   "execution_count": null,
   "metadata": {},
   "outputs": [],
   "source": []
  },
  {
   "cell_type": "code",
   "execution_count": 64,
   "metadata": {},
   "outputs": [],
   "source": [
    "# import os"
   ]
  },
  {
   "cell_type": "code",
   "execution_count": 65,
   "metadata": {},
   "outputs": [],
   "source": [
    "# dist_filename = \"CALC\""
   ]
  },
  {
   "cell_type": "code",
   "execution_count": 66,
   "metadata": {},
   "outputs": [],
   "source": [
    "# dist_file = '/Users/arslanaliawan/Desktop/' + str(dist_filename) + '_Sim.npy'"
   ]
  },
  {
   "cell_type": "code",
   "execution_count": 67,
   "metadata": {},
   "outputs": [],
   "source": [
    "# if os.path.isfile(dist_file):\n",
    "#     ED_Matrix = np.load(dist_file)\n",
    "# else:\n",
    "#     ED_Matrix = distance.cdist(Pseudo_TS, Pseudo_TS, 'euclidean')\n",
    "#     np.save(dist_file,ED_Matrix)\n",
    "    "
   ]
  },
  {
   "cell_type": "code",
   "execution_count": 68,
   "metadata": {},
   "outputs": [],
   "source": [
    "# np.load('/Users/arslanaliawan/Desktop/CACL_Sim.npy')"
   ]
  },
  {
   "cell_type": "code",
   "execution_count": null,
   "metadata": {},
   "outputs": [],
   "source": []
  },
  {
   "cell_type": "code",
   "execution_count": null,
   "metadata": {},
   "outputs": [],
   "source": []
  },
  {
   "cell_type": "markdown",
   "metadata": {},
   "source": [
    "### Graph"
   ]
  },
  {
   "cell_type": "code",
   "execution_count": 89,
   "metadata": {},
   "outputs": [],
   "source": [
    "G = nx.from_numpy_matrix(ED_Matrix, create_using=nx.Graph)"
   ]
  },
  {
   "cell_type": "code",
   "execution_count": 90,
   "metadata": {},
   "outputs": [],
   "source": [
    "layout = nx.spring_layout(G)\n",
    "sizes = len(ED_Matrix)"
   ]
  },
  {
   "cell_type": "code",
   "execution_count": 93,
   "metadata": {},
   "outputs": [
    {
     "data": {
      "image/png": "[encoded data removed]",
      "text/plain": [
       "<Figure size 432x288 with 1 Axes>"
      ]
     },
     "metadata": {},
     "output_type": "display_data"
    }
   ],
   "source": [
    "layout = nx.spring_layout(G)\n",
    "sizes = len(ED_Matrix)\n",
    "nx.draw(G, layout, with_labels=True, node_size=sizes)\n",
    "labels = nx.get_edge_attributes(G, \"weight\")\n",
    "output = nx.draw_networkx_edge_labels(G, pos=layout, edge_labels=labels)\n",
    "plt.show()"
   ]
  },
  {
   "cell_type": "code",
   "execution_count": 94,
   "metadata": {},
   "outputs": [],
   "source": [
    "from scipy.sparse import csr_matrix\n",
    "from scipy.sparse.csgraph import minimum_spanning_tree"
   ]
  },
  {
   "cell_type": "code",
   "execution_count": 95,
   "metadata": {},
   "outputs": [
    {
     "data": {
      "text/plain": [
       "array([[0, 0, 0, 0],\n",
       "       [0, 0, 0, 0],\n",
       "       [0, 0, 0, 0],\n",
       "       [0, 0, 0, 0]])"
      ]
     },
     "execution_count": 95,
     "metadata": {},
     "output_type": "execute_result"
    }
   ],
   "source": [
    "Tcsr = minimum_spanning_tree(nx.adjacency_matrix(G))\n",
    "Tcsr.toarray().astype(int)"
   ]
  },
  {
   "cell_type": "code",
   "execution_count": null,
   "metadata": {},
   "outputs": [],
   "source": []
  },
  {
   "cell_type": "code",
   "execution_count": null,
   "metadata": {},
   "outputs": [],
   "source": []
  }
 ],
 "metadata": {
  "kernelspec": {
   "display_name": "Python 3",
   "language": "python",
   "name": "python3"
  },
  "language_info": {
   "codemirror_mode": {
    "name": "ipython",
    "version": 3
   },
   "file_extension": ".py",
   "mimetype": "text/x-python",
   "name": "python",
   "nbconvert_exporter": "python",
   "pygments_lexer": "ipython3",
   "version": "3.7.6"
  }
 },
 "nbformat": 4,
 "nbformat_minor": 4
}
