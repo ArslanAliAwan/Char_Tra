{
 "cells": [
  {
   "cell_type": "code",
   "execution_count": 69,
   "metadata": {},
   "outputs": [],
   "source": [
    "import numpy as np \n",
    "import pandas as pd\n",
    "import networkx as nx\n",
    "import matplotlib.pyplot as plt\n",
    "import matplotlib.pyplot as plt\n",
    "import pickle\n",
    "import random\n",
    "from copy import copy, deepcopy\n",
    "from scipy.io import arff\n",
    "from scipy.sparse import csr_matrix\n",
    "from scipy.sparse.csgraph import minimum_spanning_tree\n",
    "from scipy.sparse import csr_matrix\n",
    "from scipy.sparse.csgraph import minimum_spanning_tree\n",
    "from scipy.spatial.distance import pdist, cdist\n",
    "from sklearn.metrics.pairwise import euclidean_distances, pairwise_distances\n",
    "from sklearn.utils import check_random_state\n",
    "from scipy.spatial import distance\n",
    "from tslearn.soft_dtw_fast import *\n",
    "from tslearn.cysax import *\n",
    "from tslearn.metrics import dtw, dtw_path,dtw_path_from_metric,soft_dtw\n",
    "from tslearn.utils import *\n"
   ]
  },
  {
   "cell_type": "markdown",
   "metadata": {},
   "source": [
    "# Loading Training and Testing Data Source"
   ]
  },
  {
   "cell_type": "code",
   "execution_count": 70,
   "metadata": {},
   "outputs": [],
   "source": [
    "data1 = arff.loadarff('/Users/arslanaliawan/Desktop/Pre-experiment/Multivariate_arff/CharacterTrajectories/CharacterTrajectoriesDimension1_TRAIN.arff')\n",
    "data2 = arff.loadarff('/Users/arslanaliawan/Desktop/Pre-experiment/Multivariate_arff/CharacterTrajectories/CharacterTrajectoriesDimension2_TRAIN.arff')\n",
    "data3 = arff.loadarff('/Users/arslanaliawan/Desktop/Pre-experiment/Multivariate_arff/CharacterTrajectories/CharacterTrajectoriesDimension3_TRAIN.arff')\n",
    "\n",
    "Test_data1 = arff.loadarff('/Users/arslanaliawan/Desktop/Pre-experiment/Multivariate_arff/CharacterTrajectories/CharacterTrajectoriesDimension1_TEST.arff')\n",
    "Test_data2 = arff.loadarff('/Users/arslanaliawan/Desktop/Pre-experiment/Multivariate_arff/CharacterTrajectories/CharacterTrajectoriesDimension2_TEST.arff')\n",
    "Test_data3 = arff.loadarff('/Users/arslanaliawan/Desktop/Pre-experiment/Multivariate_arff/CharacterTrajectories/CharacterTrajectoriesDimension3_TEST.arff')"
   ]
  },
  {
   "cell_type": "code",
   "execution_count": 71,
   "metadata": {},
   "outputs": [],
   "source": [
    "df_D1 = pd.DataFrame(data1[0])\n",
    "df_D2 = pd.DataFrame(data2[0])\n",
    "df_D3 = pd.DataFrame(data3[0])\n",
    "\n",
    "Test_df_D1 = pd.DataFrame(Test_data1[0])\n",
    "Test_df_D2 = pd.DataFrame(Test_data2[0])\n",
    "Test_df_D3 = pd.DataFrame(Test_data3[0])"
   ]
  },
  {
   "cell_type": "markdown",
   "metadata": {},
   "source": [
    "## Make Over the data, as desired"
   ]
  },
  {
   "cell_type": "code",
   "execution_count": 72,
   "metadata": {},
   "outputs": [],
   "source": [
    "df_D1 =df_D1.apply(lambda x : x.fillna(method='ffill'), axis=1) \n",
    "df_D2 =df_D2.apply(lambda x : x.fillna(method='ffill'), axis=1)\n",
    "df_D3 =df_D3.apply(lambda x : x.fillna(method='ffill'), axis=1) \n",
    "\n",
    "Test_df_D1 =Test_df_D1.apply(lambda x : x.fillna(method='ffill'), axis=1) \n",
    "Test_df_D2 =Test_df_D2.apply(lambda x : x.fillna(method='ffill'), axis=1)\n",
    "Test_df_D3 =Test_df_D3.apply(lambda x : x.fillna(method='ffill'), axis=1) "
   ]
  },
  {
   "cell_type": "code",
   "execution_count": 73,
   "metadata": {},
   "outputs": [],
   "source": [
    "df_D1 = df_D1.drop('target', axis=1)\n",
    "df_D2 = df_D2.drop('target', axis=1)\n",
    "df_D3 = df_D3.drop('target', axis=1)\n",
    "\n",
    "Test_df_D1 = Test_df_D1.drop('target', axis=1)\n",
    "Test_df_D2 = Test_df_D2.drop('target', axis=1)\n",
    "Test_df_D3 = Test_df_D3.drop('target', axis=1)"
   ]
  },
  {
   "cell_type": "code",
   "execution_count": 74,
   "metadata": {},
   "outputs": [],
   "source": [
    "Sort_Dim_1 = np.expand_dims(df_D1.values.reshape(-1),axis=1)\n",
    "Sort_Dim_2 = np.expand_dims(df_D2.values.reshape(-1),axis=1)\n",
    "Sort_Dim_3 = np.expand_dims(df_D3.values.reshape(-1),axis=1)\n",
    "\n",
    "Sort_Test_Dim_1 = np.expand_dims(Test_df_D1.values.reshape(-1),axis=1)\n",
    "Sort_Test_Dim_2 = np.expand_dims(Test_df_D2.values.reshape(-1),axis=1)\n",
    "Sort_Test_Dim_3 = np.expand_dims(Test_df_D3.values.reshape(-1),axis=1)"
   ]
  },
  {
   "cell_type": "code",
   "execution_count": 75,
   "metadata": {},
   "outputs": [],
   "source": [
    "Training_View = np.concatenate((Sort_Dim_1, Sort_Dim_2),axis=1)\n",
    "Training_View = np.concatenate((Training_View, Sort_Dim_3),axis=1)"
   ]
  },
  {
   "cell_type": "code",
   "execution_count": 76,
   "metadata": {},
   "outputs": [
    {
     "data": {
      "text/plain": [
       "(258804, 3)"
      ]
     },
     "execution_count": 76,
     "metadata": {},
     "output_type": "execute_result"
    }
   ],
   "source": [
    "Training_View.shape"
   ]
  },
  {
   "cell_type": "code",
   "execution_count": 77,
   "metadata": {},
   "outputs": [],
   "source": [
    "Testing_View = np.concatenate((Sort_Test_Dim_1, Sort_Test_Dim_2),axis=1)\n",
    "Testing_View = np.concatenate((Testing_View, Sort_Test_Dim_3),axis=1)"
   ]
  },
  {
   "cell_type": "code",
   "execution_count": 78,
   "metadata": {},
   "outputs": [],
   "source": [
    "finalarray_test_data = Testing_View[:][0:182]"
   ]
  },
  {
   "cell_type": "code",
   "execution_count": 79,
   "metadata": {},
   "outputs": [
    {
     "data": {
      "text/plain": [
       "(182, 3)"
      ]
     },
     "execution_count": 79,
     "metadata": {},
     "output_type": "execute_result"
    }
   ],
   "source": [
    "finalarray_test_data.shape"
   ]
  },
  {
   "cell_type": "markdown",
   "metadata": {},
   "source": [
    "## Initializing the data"
   ]
  },
  {
   "cell_type": "code",
   "execution_count": 80,
   "metadata": {},
   "outputs": [],
   "source": [
    "Total_rows = 258804\n",
    "Sample_Percentage = 0\n",
    "Number_of_run= 0\n",
    "Length_RTS = 0\n",
    "global Sub_Sample_copy_PTS \n",
    "Training_Results_List = []\n",
    "PTS_Results_List = []\n",
    "Store_Avg_list = []\n",
    "dictionary = dict()\n",
    "dictionary_RTS = dict()\n",
    "dictionary_RTS_all = dict()\n",
    "dictionary_PTS = dict()\n",
    "dictionary_PTS_for_all_change = dict()\n",
    "RTS_short_list_Results_List = []\n",
    "Starting_point = Testing_View[:][0:1]\n",
    "End_point = Testing_View[:][181:182]"
   ]
  },
  {
   "cell_type": "markdown",
   "metadata": {},
   "source": [
    "## Functions body for Random TS"
   ]
  },
  {
   "cell_type": "code",
   "execution_count": 81,
   "metadata": {},
   "outputs": [],
   "source": [
    "def generate_random_number_for_RTS():\n",
    "    num = random.randint(50, 120)\n",
    "    return num"
   ]
  },
  {
   "cell_type": "code",
   "execution_count": 82,
   "metadata": {},
   "outputs": [],
   "source": [
    "def Calculate_Percentage(Sample_Percentage):\n",
    "    Refining_Percentage= Total_rows * (Sample_Percentage/100)\n",
    "    Refining_Percentage = round(Refining_Percentage)   \n",
    "    return Refining_Percentage"
   ]
  },
  {
   "cell_type": "code",
   "execution_count": 83,
   "metadata": {},
   "outputs": [],
   "source": [
    "def Random_Part(Refining_Percentage):\n",
    "    Sub_Sampling = Training_View[:][0:Refining_Percentage]\n",
    "    return Sub_Sampling\n",
    "\n",
    "    "
   ]
  },
  {
   "cell_type": "code",
   "execution_count": 84,
   "metadata": {},
   "outputs": [],
   "source": [
    "def Get_random_row(Sub_Sampling,Length_RTS):\n",
    "    \n",
    "    number_of_rows = Sub_Sampling.shape[0]\n",
    "    random_indices = np.random.choice(number_of_rows, size=Length_RTS, replace=False)\n",
    "    random_rows = Sub_Sampling[random_indices, :]\n",
    "    return random_rows\n",
    "    "
   ]
  },
  {
   "cell_type": "code",
   "execution_count": 85,
   "metadata": {},
   "outputs": [],
   "source": [
    "def Adding_start_end_point(random_rows):\n",
    "    Output_TS = np.concatenate((Starting_point, random_rows),axis=0)\n",
    "    Output_TS = np.concatenate((Output_TS, End_point),axis=0)\n",
    "    return Output_TS"
   ]
  },
  {
   "cell_type": "code",
   "execution_count": 86,
   "metadata": {},
   "outputs": [],
   "source": [
    "def Calculate_Random_DTW(Output_TS,Len_RTS):\n",
    "    path, dist = dtw_path(finalarray_test_data, Output_TS)\n",
    "    if(dist>0 and Len_RTS >150 ):\n",
    "        \n",
    "        Training_Results_List.append(dist)  \n",
    "    else:\n",
    "        RTS_short_list_Results_List.append(dist)"
   ]
  },
  {
   "cell_type": "markdown",
   "metadata": {},
   "source": [
    "## Functions body for Pseudo TS"
   ]
  },
  {
   "cell_type": "code",
   "execution_count": 87,
   "metadata": {},
   "outputs": [],
   "source": [
    "def generate_similarity_matrix(Complete_PTS):\n",
    "    ED_Matrix = distance.cdist(Complete_PTS, Complete_PTS, 'euclidean')\n",
    "    return ED_Matrix"
   ]
  },
  {
   "cell_type": "code",
   "execution_count": 88,
   "metadata": {},
   "outputs": [],
   "source": [
    "def generate_graph(similarity_output):\n",
    "    G = nx.from_numpy_matrix(similarity_output, create_using=nx.Graph)\n",
    "    layout = nx.spring_layout(G)\n",
    "    sizes = len(similarity_output)\n",
    "    return G"
   ]
  },
  {
   "cell_type": "code",
   "execution_count": 89,
   "metadata": {},
   "outputs": [],
   "source": [
    "def generate_MST(G):\n",
    "    layout = nx.spring_layout(G)\n",
    "    T=nx.minimum_spanning_tree(G)\n",
    "    return T"
   ]
  },
  {
   "cell_type": "code",
   "execution_count": 90,
   "metadata": {},
   "outputs": [],
   "source": [
    "def generate_Dijkstra(T):\n",
    "    Dij = nx.dijkstra_path(T,0,181)\n",
    "    return Dij"
   ]
  },
  {
   "cell_type": "code",
   "execution_count": 91,
   "metadata": {},
   "outputs": [],
   "source": [
    "def doing_miscellaneous_work(Dijkstra_output):\n",
    "    a = []\n",
    "    for x in range(len(Dijkstra_output)):\n",
    "    \n",
    "        Index = Dijkstra_output[x]\n",
    "        a.append(list(Complete_PTS[Index]))\n",
    "    P_TS = np.array(a)\n",
    "    return P_TS"
   ]
  },
  {
   "cell_type": "code",
   "execution_count": 92,
   "metadata": {},
   "outputs": [],
   "source": [
    "def generate_DTW_PTS(Miscellaneous_output):\n",
    "    path, dist = dtw_path(finalarray_test_data, Miscellaneous_output)\n",
    "    if(dist>0):\n",
    "        PTS_Results_List.append(dist)     "
   ]
  },
  {
   "cell_type": "code",
   "execution_count": 93,
   "metadata": {},
   "outputs": [],
   "source": [
    "def Adding_start_end_point_PTS(Pseudo_TS,y):\n",
    "    if(y==1):\n",
    "        SP = [Testing_View[:][0]]\n",
    "        EP = [Testing_View[:][181]]\n",
    "        Output_PTS = np.concatenate((SP, Pseudo_TS),axis=0)\n",
    "        Output_PTS = np.concatenate((Output_PTS, EP),axis=0)\n",
    "    else:\n",
    "        p =182\n",
    "        SP = [Testing_View[:][p*(y-1)]]\n",
    "        EP = [Testing_View[:][((y*p)-1)]]\n",
    "        Output_PTS = np.concatenate((SP, Pseudo_TS),axis=0)\n",
    "        Output_PTS = np.concatenate((Output_PTS, EP),axis=0)\n",
    "    return Output_PTS"
   ]
  },
  {
   "cell_type": "code",
   "execution_count": 94,
   "metadata": {},
   "outputs": [],
   "source": [
    "def Run_all_fun(Complete_PTS):\n",
    "    similarity_output = generate_similarity_matrix(Complete_PTS)\n",
    "    graph_output = generate_graph(similarity_output)\n",
    "    MST_output_1 =  generate_MST(graph_output)\n",
    "    Dijkstra_output = generate_Dijkstra(MST_output_1)\n",
    "    Miscellaneous_output = doing_miscellaneous_work(Dijkstra_output)\n",
    "    generate_DTW_PTS(Miscellaneous_output)"
   ]
  },
  {
   "cell_type": "markdown",
   "metadata": {},
   "source": [
    "### RTS with Number of iterations ; different percentage ; Diff. length of RTS"
   ]
  },
  {
   "cell_type": "code",
   "execution_count": 95,
   "metadata": {},
   "outputs": [],
   "source": [
    "for i in range (1,11):\n",
    "    random_num_out = generate_random_number_for_RTS()\n",
    "    for x in range(1,6):\n",
    "        \n",
    "        Refining_Percentage = Calculate_Percentage(20*x)\n",
    "        Sub_Sampling = Random_Part(Refining_Percentage)\n",
    "        random_rows = Get_random_row(Sub_Sampling,random_num_out)\n",
    "        Output_TS = Adding_start_end_point(random_rows)\n",
    "        Calculate_Random_DTW(Output_TS,random_num_out) \n",
    "    dictionary_RTS_all[i] = RTS_short_list_Results_List\n",
    "    RTS_short_list_Results_List= []"
   ]
  },
  {
   "cell_type": "code",
   "execution_count": 96,
   "metadata": {},
   "outputs": [
    {
     "data": {
      "image/png": "[encoded data removed]",
      "text/plain": [
       "<Figure size 432x288 with 1 Axes>"
      ]
     },
     "metadata": {
      "needs_background": "light"
     },
     "output_type": "display_data"
    }
   ],
   "source": [
    "# Pythopn 3.5+\n",
    "# labels, data = [*zip(*dictionary_RTS_all.items())]  # 'transpose' items to parallel key, value lists\n",
    "# or backwards compatable    \n",
    "labels, data = dictionary_RTS_all.keys(), dictionary_RTS_all.values()\n",
    "\n",
    "plt.boxplot(data)\n",
    "plt.xticks(range(1, len(labels) + 1), labels)\n",
    "plt.show()"
   ]
  },
  {
   "cell_type": "markdown",
   "metadata": {},
   "source": [
    "### RTS with Number of iterations ; different percentage"
   ]
  },
  {
   "cell_type": "code",
   "execution_count": 97,
   "metadata": {},
   "outputs": [],
   "source": [
    "for i in range (1,11):\n",
    "\n",
    "    for x in range(1,6):\n",
    "        \n",
    "        Refining_Percentage = Calculate_Percentage(20*x)\n",
    "        Sub_Sampling = Random_Part(Refining_Percentage)\n",
    "        random_rows = Get_random_row(Sub_Sampling,180)\n",
    "        Output_TS = Adding_start_end_point(random_rows)\n",
    "        Calculate_Random_DTW(Output_TS,180) \n",
    "    dictionary_RTS[i] = Training_Results_List\n",
    "    Training_Results_List= []"
   ]
  },
  {
   "cell_type": "code",
   "execution_count": 98,
   "metadata": {},
   "outputs": [
    {
     "data": {
      "image/png": "[encoded data removed]",
      "text/plain": [
       "<Figure size 432x288 with 1 Axes>"
      ]
     },
     "metadata": {
      "needs_background": "light"
     },
     "output_type": "display_data"
    }
   ],
   "source": [
    "labels, data = dictionary_RTS.keys(), dictionary_RTS.values()\n",
    "plt.boxplot(data)\n",
    "plt.xticks(range(1, len(labels) + 1), labels)\n",
    "plt.show()"
   ]
  },
  {
   "cell_type": "markdown",
   "metadata": {},
   "source": [
    "###  ------------------------------------------"
   ]
  },
  {
   "cell_type": "markdown",
   "metadata": {},
   "source": [
    "## Changing SP and EP of Training TS  for Pseudo TS"
   ]
  },
  {
   "cell_type": "code",
   "execution_count": 99,
   "metadata": {},
   "outputs": [],
   "source": [
    "for y in range(1,11):\n",
    "    for x in range(1,6):\n",
    "        \n",
    "        Refining_Percentage = Calculate_Percentage(20*x)\n",
    "        Sub_Sampling = Random_Part(Refining_Percentage)\n",
    "        Sub_Sampling_PTS = Sub_Sampling[:][1:181]\n",
    "        Pseudo_TS = Sub_Sampling_PTS\n",
    "        Complete_PTS = Adding_start_end_point_PTS(Pseudo_TS,y)\n",
    "        Run_all_fun(Complete_PTS) \n",
    "\n",
    "            \n",
    "    dictionary_PTS[y] = PTS_Results_List\n",
    "    PTS_Results_List = []"
   ]
  },
  {
   "cell_type": "code",
   "execution_count": 100,
   "metadata": {},
   "outputs": [
    {
     "data": {
      "image/png": "[encoded data removed]",
      "text/plain": [
       "<Figure size 432x288 with 1 Axes>"
      ]
     },
     "metadata": {
      "needs_background": "light"
     },
     "output_type": "display_data"
    }
   ],
   "source": [
    "labels, data = dictionary_PTS.keys(), dictionary_PTS.values()\n",
    "plt.boxplot(data)\n",
    "plt.xticks(range(1, len(labels) + 1), labels)\n",
    "plt.show()"
   ]
  },
  {
   "cell_type": "markdown",
   "metadata": {},
   "source": [
    "### Changing whole Training TS with SP and EP for PTS"
   ]
  },
  {
   "cell_type": "code",
   "execution_count": 101,
   "metadata": {},
   "outputs": [],
   "source": [
    "for y in range(1,11):\n",
    "    for x in range(1,6):\n",
    "        i = 181\n",
    "        if(x==1):\n",
    "            Refining_Percentage = Calculate_Percentage(20*x)\n",
    "            Sub_Sampling = Random_Part(Refining_Percentage)\n",
    "            Sub_Sampling_PTS = Sub_Sampling[:][1:181*x]\n",
    "            Pseudo_TS = Sub_Sampling_PTS\n",
    "            Complete_PTS = Adding_start_end_point_PTS(Pseudo_TS,y)\n",
    "            Run_all_fun(Complete_PTS) \n",
    "\n",
    "        else:\n",
    "            Refining_Percentage = Calculate_Percentage(20*x)\n",
    "            Sub_Sampling = Random_Part(Refining_Percentage)\n",
    "            Sub_Sampling_PTS = Sub_Sampling[:][1+i:181*x]\n",
    "            Pseudo_TS = Sub_Sampling_PTS\n",
    "            Complete_PTS = Adding_start_end_point_PTS(Pseudo_TS,y)\n",
    "            Run_all_fun(Complete_PTS) \n",
    "            \n",
    "    dictionary_PTS_for_all_change[y] = PTS_Results_List\n",
    "    PTS_Results_List = []"
   ]
  },
  {
   "cell_type": "code",
   "execution_count": 102,
   "metadata": {},
   "outputs": [
    {
     "data": {
      "image/png": "[encoded data removed]",
      "text/plain": [
       "<Figure size 432x288 with 1 Axes>"
      ]
     },
     "metadata": {
      "needs_background": "light"
     },
     "output_type": "display_data"
    }
   ],
   "source": [
    "labels, data = dictionary_PTS_for_all_change.keys(), dictionary_PTS_for_all_change.values()\n",
    "plt.boxplot(data)\n",
    "plt.xticks(range(1, len(labels) + 1), labels)\n",
    "plt.show()"
   ]
  },
  {
   "cell_type": "code",
   "execution_count": null,
   "metadata": {},
   "outputs": [],
   "source": []
  }
 ],
 "metadata": {
  "kernelspec": {
   "display_name": "Python 3",
   "language": "python",
   "name": "python3"
  },
  "language_info": {
   "codemirror_mode": {
    "name": "ipython",
    "version": 3
   },
   "file_extension": ".py",
   "mimetype": "text/x-python",
   "name": "python",
   "nbconvert_exporter": "python",
   "pygments_lexer": "ipython3",
   "version": "3.7.6"
  }
 },
 "nbformat": 4,
 "nbformat_minor": 4
}
